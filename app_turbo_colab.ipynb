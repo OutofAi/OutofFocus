{
  "cells": [
    {
      "cell_type": "code",
      "execution_count": null,
      "metadata": {
        "colab": {
          "base_uri": "https://localhost:8080/"
        },
        "id": "VoR1zn1WFCse",
        "outputId": "65f5b936-59fb-41f0-fff9-3ea676e608a4"
      },
      "outputs": [],
      "source": [
        "import sys\n",
        "\n",
        "if 'google.colab' in sys.modules:\n",
        "    %cd /content/\n",
        "    !git clone https://github.com/OutofAi/OutofFocus > /dev/null 2>&1\n",
        "    %cd OutofFocus\n",
        "    !pip install -r requirements.txt > /dev/null 2>&1\n",
        "else:\n",
        "    print(\"Make sure you running in a colab notebook with GPU enabled\")\n"
      ]
    },
    {
      "cell_type": "code",
      "execution_count": null,
      "metadata": {
        "colab": {
          "base_uri": "https://localhost:8080/"
        },
        "id": "zvVAbrw8Ix8E",
        "outputId": "6e83a1b8-85ff-4d58-ed22-581f49392809"
      },
      "outputs": [],
      "source": [
        "# make sure after the ptyhon code is running, when provided, click on the \"Running on public URL\" link to run the app\n",
        "!python app_turbo.py --share"
      ]
    }
  ],
  "metadata": {
    "accelerator": "GPU",
    "colab": {
      "gpuType": "L4",
      "provenance": []
    },
    "kernelspec": {
      "display_name": "Python 3",
      "name": "python3"
    },
    "language_info": {
      "codemirror_mode": {
        "name": "ipython",
        "version": 3
      },
      "file_extension": ".py",
      "mimetype": "text/x-python",
      "name": "python",
      "nbconvert_exporter": "python",
      "pygments_lexer": "ipython3",
      "version": "3.10.11"
    }
  },
  "nbformat": 4,
  "nbformat_minor": 0
}
