{
  "cells": [
    {
      "cell_type": "code",
      "execution_count": null,
      "metadata": {
        "colab": {
          "base_uri": "https://localhost:8080/"
        },
        "id": "VoR1zn1WFCse",
        "outputId": "672d0ad3-5767-4a33-c8b5-4a706426d505"
      },
      "outputs": [],
      "source": [
        "import sys\n",
        "\n",
        "if 'google.colab' in sys.modules:\n",
        "    %cd /content/\n",
        "    !git clone https://github.com/OutofAi/OutofFocus > /dev/null 2>&1\n",
        "    %cd OutofFocus\n",
        "    !pip install -r requirements.txt > /dev/null 2>&1\n",
        "else:\n",
        "    print(\"Make sure you running in a colab notebook with GPU enabled\")\n"
      ]
    },
    {
      "cell_type": "code",
      "execution_count": null,
      "metadata": {
        "colab": {
          "base_uri": "https://localhost:8080/"
        },
        "id": "zvVAbrw8Ix8E",
        "outputId": "15491c21-77fa-45d6-949f-84e16cb0e039"
      },
      "outputs": [],
      "source": [
        "# make sure after the ptyhon code is running, when provided, click on the \"Running on public URL\" link to run the app\n",
        "!python app.py --share"
      ]
    }
  ],
  "metadata": {
    "accelerator": "GPU",
    "colab": {
      "gpuType": "A100",
      "provenance": []
    },
    "kernelspec": {
      "display_name": "Python 3",
      "name": "python3"
    },
    "language_info": {
      "codemirror_mode": {
        "name": "ipython",
        "version": 3
      },
      "file_extension": ".py",
      "mimetype": "text/x-python",
      "name": "python",
      "nbconvert_exporter": "python",
      "pygments_lexer": "ipython3",
      "version": "3.10.11"
    }
  },
  "nbformat": 4,
  "nbformat_minor": 0
}
